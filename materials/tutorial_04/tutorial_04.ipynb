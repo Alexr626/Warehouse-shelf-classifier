{
 "cells": [
  {
   "cell_type": "markdown",
   "metadata": {
    "deletable": false,
    "editable": false,
    "nbgrader": {
     "cell_type": "markdown",
     "checksum": "f97f65e4d6b4c1d4d999d0c2ae225fc5",
     "grade": false,
     "grade_id": "cell-f1e1d845873036f4",
     "locked": true,
     "schema_version": 3,
     "solution": false,
     "task": false
    }
   },
   "source": [
    "# Tutorial 4: MLR with different types of input variables"
   ]
  },
  {
   "cell_type": "markdown",
   "metadata": {
    "deletable": false,
    "editable": false,
    "nbgrader": {
     "cell_type": "markdown",
     "checksum": "1c57f899f006691c0cb0f40be06bb51e",
     "grade": false,
     "grade_id": "cell-82d9926086d47a80",
     "locked": true,
     "schema_version": 3,
     "solution": false,
     "task": false
    }
   },
   "source": [
    "#### Lecture and Tutorial Learning Goals:\n",
    "After completing this week's lecture and tutorial work, you will be able to:\n",
    "\n",
    "1. Give an example of a real problem that that could be answered by a multiple linear regression.\n",
    "2. Interpret the coefficients and $p$-values of different types of input variables, including categorical input variables.\n",
    "3. Define interactions in the context of linear regression.\n",
    "4. Write a computer script to perform linear regression when input variables are continuous or discrete, and when there are interactions between some of these variables."
   ]
  },
  {
   "cell_type": "code",
   "execution_count": null,
   "metadata": {
    "deletable": false,
    "editable": false,
    "nbgrader": {
     "cell_type": "code",
     "checksum": "4265ccb308a44a32b2a47c632dae2349",
     "grade": false,
     "grade_id": "cell-a2a153352bc44a68",
     "locked": true,
     "schema_version": 3,
     "solution": false,
     "task": false
    }
   },
   "outputs": [],
   "source": [
    "# Run this cell before continuing.\n",
    "library(tidyverse)\n",
    "library(repr)\n",
    "library(infer)\n",
    "library(cowplot)\n",
    "library(broom)\n",
    "source(\"tests_tutorial_04.R\")"
   ]
  },
  {
   "cell_type": "markdown",
   "metadata": {
    "deletable": false,
    "editable": false,
    "nbgrader": {
     "cell_type": "markdown",
     "checksum": "afc3b5a0f5a63182186d228968441ff8",
     "grade": false,
     "grade_id": "cell-9be71f65643c5906",
     "locked": true,
     "schema_version": 3,
     "solution": false,
     "task": false
    }
   },
   "source": [
    "## The data\n",
    "\n",
    "We will continue using the Facebook dataset from `tutorial_03`. Recall this dataset is related to critical information on user engagement during 2014 on a Facebook page of a famous cosmetics brand. The original dataset contains 500 observations related to different types of posts. It can be found in [data.world](https://data.world/uci/facebook-metrics/workspace/project-summary?agentid=uci&datasetid=facebook-metrics). The dataset you will work with in this tutorial contains 491 observations. The dataset was firstly analyzed by [Moro et al. (2016)](https://gw2jh3xr2c.search.serialssolutions.com/log?L=GW2JH3XR2C&D=ADALY&J=JOUROFBUSRE&P=Link&PT=EZProxy&A=Predicting+social+media+performance+metrics+and+evaluation+of+the+impact+on+brand+building%3A+A+data+mining+approach&H=d8c19bb47c&U=https%3A%2F%2Fezproxy.library.ubc.ca%2Flogin%3Furl%3Dhttps%3A%2F%2Fwww.sciencedirect.com%2Fscience%2Flink%3Fref_val_fmt%3Dinfo%3Aofi%2Ffmt%3Akev%3Amtx%3Ajournal%26svc_val_fmt%3Dinfo%3Aofi%2Ffmt%3Akev%3Amtx%3Asch_srv%26rfr_dat%3Dsaltver%3A1%26rfr_dat%3Dorigin%3ASERIALSSOL%26ctx_enc%3Dinfo%3Aofi%2Fenc%3AUTF-8%26ctx_ver%3DZ39.88-2004%26rft_id%3Dinfo%3Adoi%2F10.1016%2Fj.jbusres.2016.02.010) in their data mining work to predict the performance of different post metrics, which are also based on the type of post. The original dataset has 17 variables of different types (continuous and discrete). Nonetheless, for this lab, we extracted four variables saved in  `facebook_data`:\n",
    "\n",
    "1.  `total_engagement_percentage` (continuous): gives a sense of how engaged the overall social network's users are with the company's posts, **regardless of whether they previously liked their Facebook page or not**. *The larger the percentage, the better the total engagement*. It is computed as follows:\n",
    "\n",
    "$$\\texttt{total_engagement_percentage} = \\frac{\\text{Lifetime Engaged Users}}{\\text{Lifetime Post Total Reach}} \\times 100\\%$$\n",
    "\n",
    "-   **Lifetime Post Total Reach:** The number of overall *Facebook unique users* who *saw* the post.\n",
    "-   **Lifetime Engaged Users:** The number of overall *Facebook unique users* who *saw and clicked* on the post. This count is a subset of **Lifetime Post Total Reach**.\n",
    "\n",
    "2.  `page_engagement_percentage` (continuous): is analogous to `total_engagement_percentage`, but only with users who engaged with the post **given they have liked the page**. This variable provides a sense to the company to what extent these subscribed users react to its posts. *The larger the percentage, the better the page engagement*. It is computed as follows:\n",
    "\n",
    "$$\\texttt{page_engagement_percentage} = \\frac{\\text{Lifetime Users Who Have Liked the Page and Engaged with the Post}}{\\text{Lifetime Post Reach by Users Who Liked the Page}} \\times 100\\% $$\n",
    "\n",
    "-   **Lifetime Post Reach by Users Who Liked the Page:** The number of *Facebook unique page subscribers* who *saw* the post.\n",
    "-   **Lifetime Users Who Have Liked the Page and Engaged with the Posts:** The number of *Facebook unique page subscribers* who *saw and clicked* on the post. This count is a subset of **Lifetime Post Reach by Users Who Liked the Page**.\n",
    "\n",
    "3.  `share_percentage` (continuous): is the percentage that the number of *shares* represents from the sum of *likes*, *comments*, and *shares* in each post. It is computed as follows:\n",
    "\n",
    "$$\\texttt{share_percentage} = \\frac{\\text{Number of Shares}}{\\text{Total Post Interactions}} \\times 100\\% $$\n",
    "\n",
    "-   **Total Post Interactions:** The sum of *likes*, *comments*, and *shares* in a given post.\n",
    "-   **Number of Shares:** The number of *shares* in a given post. This count is a subset of *Total Post Interactions*.\n",
    "\n",
    "4.  `comment_percentage` (continuous): is the percentage that the number of *comments* represents from the sum of *likes*, *comments*, and *shares* in each post. It is computed as follows:\n",
    "\n",
    "$$\\texttt{comment_percentage} = \\frac{\\text{Number of Comments}}{\\text{Total Post Interactions}} \\times 100\\% $$\n",
    "\n",
    "-   **Total Post Interactions:** The sum of *likes*, *comments*, and *shares* in a given post.\n",
    "-   **Number of Comments:** The number of *comments* in a given post. This count is a subset of *Total Post Interactions*.\n",
    "\n",
    "5. `post_category` (categorical): is a discrete variable with three different levels characterizing the content of the post:\n",
    "\n",
    "-   `Action`: Brand's contests and special offers for the customers.\n",
    "-   `Product`: Regular advertisements for products with explicit brand content.\n",
    "-   `Inspiration`: Non-explicit brand-related content.\n",
    "\n",
    "> **Note**: For all the estimated regression models in this tutorial, we will consider `total_engagement_percentage` as a response along with `page_engagement_percentage` and `post_category` as inputs."
   ]
  },
  {
   "cell_type": "markdown",
   "metadata": {
    "deletable": false,
    "editable": false,
    "nbgrader": {
     "cell_type": "markdown",
     "checksum": "c38a0061334075e5a9e36c2028ef90bd",
     "grade": false,
     "grade_id": "cell-3dfb99accf2154a8",
     "locked": true,
     "schema_version": 3,
     "solution": false,
     "task": false
    }
   },
   "source": [
    "#### Important: Note that if the categorical variable is not a factor, `lm` won't create a dummy variable!! \n",
    "\n",
    "> Make sure that categorical variables in your model are factors. If they are not, then **set them as factors**!! (see code example below)"
   ]
  },
  {
   "cell_type": "code",
   "execution_count": null,
   "metadata": {
    "deletable": false,
    "editable": false,
    "nbgrader": {
     "cell_type": "code",
     "checksum": "a4ec7a5ef84f8ff7dd048a5366cbaff9",
     "grade": false,
     "grade_id": "cell-8fd15f784ff205e6",
     "locked": true,
     "schema_version": 3,
     "solution": false,
     "task": false
    }
   },
   "outputs": [],
   "source": [
    "facebook_data <- read_csv(\"data/facebook_data.csv\")\n",
    "head(facebook_data)\n",
    "\n",
    "facebook_data$post_category <- as.factor(facebook_data$post_category)\n",
    "levels(facebook_data$post_category)"
   ]
  },
  {
   "cell_type": "markdown",
   "metadata": {
    "deletable": false,
    "editable": false,
    "nbgrader": {
     "cell_type": "markdown",
     "checksum": "0f9eb4efe060fd73fd21424bbda8ba26",
     "grade": false,
     "grade_id": "cell-a7382e79e72c9703",
     "locked": true,
     "schema_version": 3,
     "solution": false,
     "task": false
    }
   },
   "source": [
    "## 1. MLR: additive\n",
    "\n",
    "Let $Y_i$ be the response `total_engagement_percentage` and $X_{1i}$ be a continuous input for the variable `page_engagement_percentage`. Furthermore, define the following dummy variables associated to `post_category` as:\n",
    "\n",
    "$$\n",
    "X_{2i} =\n",
    "\\begin{cases}\n",
    "1 \\; \\; \\; \\; \\mbox{if the $i$th post is Inspiration-type,}\\\\\n",
    "0 \\; \\; \\; \\; \\mbox{otherwise};\n",
    "\\end{cases}\n",
    "$$\n",
    "\n",
    "$$\n",
    "X_{3i} =\n",
    "\\begin{cases}\n",
    "1 \\; \\; \\; \\; \\mbox{if the $i$th post is Product-type,}\\\\\n",
    "0 \\; \\; \\; \\; \\mbox{otherwise}.\n",
    "\\end{cases}\n",
    "$$\n",
    "\n",
    "Mathematically, the equation of an additive MLR with one continuous variable and one categorical variable with 3 levels can be written as:\n",
    "\n",
    "$$Y_i = \\beta_0 + \\beta_1 X_{1i} + \\beta_2 X_{2i} + \\beta_3 X_{3i} + \\varepsilon_i$$\n",
    "\n",
    "The regression coefficients $\\beta_0$, $\\beta_1$, $\\beta_2$, and $\\beta_3$ are the **true and unknown** regression coefficients **we want to estimate**. \n",
    "\n",
    "Moreover, $\\varepsilon_i$ is the error term with $E(\\varepsilon_i|X_{ji}) = E(\\varepsilon_i) = 0$ (for all $j$ variables) and $\\text{Var}(\\varepsilon_i) = \\sigma^2$. Note that $i$ could take on the following values: $1 , \\dots, n$. Recall that $n$ is the sample size.\n",
    "\n",
    "> **Note** that only one of these coefficients is a *slope* in a mathematical sense. The coefficients of dummy variables can not be interpreted as slopes!"
   ]
  },
  {
   "cell_type": "markdown",
   "metadata": {
    "deletable": false,
    "editable": false,
    "nbgrader": {
     "cell_type": "markdown",
     "checksum": "4d3a7a8dc44b0174f3a9071bd4ee70c2",
     "grade": false,
     "grade_id": "cell-18576173209dcbfe",
     "locked": true,
     "schema_version": 3,
     "solution": false,
     "task": false
    }
   },
   "source": [
    "**Question 1.0**\n",
    "<br>{points: 1}\n",
    "\n",
    "Since the input `post_category` is discrete and nominal, `lm` selects, by default, one level as a baseline to create 2 dummy variables. Which of the three levels of `post_category` is selected, by default, as a baseline?\n",
    "\n",
    "**A.** `Inspiration`\n",
    "\n",
    "**B.** `Product`\n",
    "\n",
    "**C.**  `Action`\n",
    "\n",
    "*Assign your answer to an object called `answer1.0`. Your answer should be one of `\"A\"`, `\"B\"`, or `\"C\"` surrounded by quotes.*"
   ]
  },
  {
   "cell_type": "code",
   "execution_count": null,
   "metadata": {
    "deletable": false,
    "nbgrader": {
     "cell_type": "code",
     "checksum": "cd4bd2ff4058b85570033044f5e731a9",
     "grade": false,
     "grade_id": "cell-f073f90a4398375f",
     "locked": false,
     "schema_version": 3,
     "solution": true,
     "task": false
    }
   },
   "outputs": [],
   "source": [
    "# answer1.0 <- ...\n",
    "\n",
    "# your code here\n",
    "fail() # No Answer - remove if you provide an answer"
   ]
  },
  {
   "cell_type": "code",
   "execution_count": null,
   "metadata": {
    "deletable": false,
    "editable": false,
    "nbgrader": {
     "cell_type": "code",
     "checksum": "d6f3723f0f8ef72f8cbfa6906e42b426",
     "grade": true,
     "grade_id": "cell-b6ce784a5466648d",
     "locked": true,
     "points": 1,
     "schema_version": 3,
     "solution": false,
     "task": false
    }
   },
   "outputs": [],
   "source": [
    "test_1.0()"
   ]
  },
  {
   "cell_type": "markdown",
   "metadata": {
    "deletable": false,
    "editable": false,
    "nbgrader": {
     "cell_type": "markdown",
     "checksum": "f322ef5fc2824e2bab6ba3948b870cfa",
     "grade": false,
     "grade_id": "cell-3e16a0eb1d1251a6",
     "locked": true,
     "schema_version": 3,
     "solution": false,
     "task": false
    }
   },
   "source": [
    "**Question 1.1**\n",
    "<br>{points: 1}\n",
    "\n",
    "How many dummy variables does `lm` create to fit a linear regression with the categorical variable `post_category`?\n",
    "\n",
    "**A.** 1\n",
    "\n",
    "**B.** 2\n",
    "\n",
    "**C.** 3\n",
    "\n",
    "**D.** 4\n",
    "\n",
    "*Assign your answer to an object called `answer1.1`. Your answer should be one of `\"A\"`, `\"B\"`, `\"C\"`, or `\"D\"` surrounded by quotes.*"
   ]
  },
  {
   "cell_type": "code",
   "execution_count": null,
   "metadata": {
    "deletable": false,
    "nbgrader": {
     "cell_type": "code",
     "checksum": "c3a74807a9fd10b0a98bf7040df5d7ca",
     "grade": false,
     "grade_id": "cell-49fd43204dbbbe64",
     "locked": false,
     "schema_version": 3,
     "solution": true,
     "task": false
    }
   },
   "outputs": [],
   "source": [
    "# answer1.1 <- \n",
    "\n",
    "# your code here\n",
    "fail() # No Answer - remove if you provide an answer"
   ]
  },
  {
   "cell_type": "code",
   "execution_count": null,
   "metadata": {
    "deletable": false,
    "editable": false,
    "nbgrader": {
     "cell_type": "code",
     "checksum": "aab29ab12d9f21578b4e0bb9fb243b26",
     "grade": true,
     "grade_id": "cell-8a6966bb42e5995c",
     "locked": true,
     "points": 1,
     "schema_version": 3,
     "solution": false,
     "task": false
    }
   },
   "outputs": [],
   "source": [
    "test_1.1()"
   ]
  },
  {
   "cell_type": "markdown",
   "metadata": {
    "deletable": false,
    "editable": false,
    "nbgrader": {
     "cell_type": "markdown",
     "checksum": "3f78c24df1cc1ac3fa7c200ec99cc732",
     "grade": false,
     "grade_id": "cell-75a9578496bd6d9c",
     "locked": true,
     "schema_version": 3,
     "solution": false,
     "task": false
    }
   },
   "source": [
    "**Question 1.2**\n",
    "<br>{points: 1}\n",
    "\n",
    "If you assume that the relation between `total_engagement_percentage` and `page_engagement_percentage` is the same for all type of posts (that is for all levels of `post_category`), which MLR will you fit in `R` using the `lm` function?\n",
    "\n",
    "**A.** `lm(total_engagement_percentage ~ page_engagement_percentage + post_category, data = facebook_sample)`\n",
    "\n",
    "**B.** `lm(total_engagement_percentage ~ page_engagement_percentage * post_category, data = facebook_sample)`\n",
    "\n",
    "*Assign your answer to an object called `answer1.2`. Your answer should be one of `\"A\"` or `\"B\"` surrounded by quotes.*"
   ]
  },
  {
   "cell_type": "code",
   "execution_count": null,
   "metadata": {
    "deletable": false,
    "nbgrader": {
     "cell_type": "code",
     "checksum": "e97fed2fc79c181b9447e6caafaa4b18",
     "grade": false,
     "grade_id": "cell-f6b2d0e8025cf80e",
     "locked": false,
     "schema_version": 3,
     "solution": true,
     "task": false
    }
   },
   "outputs": [],
   "source": [
    "# answer1.2 <- \n",
    "\n",
    "# your code here\n",
    "fail() # No Answer - remove if you provide an answer"
   ]
  },
  {
   "cell_type": "code",
   "execution_count": null,
   "metadata": {
    "deletable": false,
    "editable": false,
    "nbgrader": {
     "cell_type": "code",
     "checksum": "d810fcc6f81a8afc5987ec10316adfb0",
     "grade": true,
     "grade_id": "cell-645245eaf0a415b6",
     "locked": true,
     "points": 1,
     "schema_version": 3,
     "solution": false,
     "task": false
    }
   },
   "outputs": [],
   "source": [
    "test_1.2()"
   ]
  },
  {
   "cell_type": "markdown",
   "metadata": {
    "deletable": false,
    "editable": false,
    "nbgrader": {
     "cell_type": "markdown",
     "checksum": "fdfb782e2d09827ebdde6da20e21bd16",
     "grade": false,
     "grade_id": "cell-37a0395078a18c50",
     "locked": true,
     "schema_version": 3,
     "solution": false,
     "task": false
    }
   },
   "source": [
    "**Question 1.3**\n",
    "<br>{points: 1}\n",
    "\n",
    "Which of the following descriptions will best describe a visualization of the MLR considered in **Question 1.2**? \n",
    "\n",
    "**A.** one line through a cloud of data points\n",
    "\n",
    "**B.** two lines with equal slopes but different intercepts\n",
    "\n",
    "**C.** two lines with different slopes and different intercepts\n",
    "\n",
    "**D.** three lines with equal slopes but different intercepts\n",
    "\n",
    "**E.** three lines with different slopes and different intercepts\n",
    "\n",
    "**F.** three boxplots for different levels of `post_category`\n",
    "\n",
    "*Assign your answer to an object called `answer1.3`. Your answer should be one of `\"A\"`, `\"B\"`, `\"C\"`, `\"D\"`, `\"E\"`, or `\"F\"` surrounded by quotes.*"
   ]
  },
  {
   "cell_type": "code",
   "execution_count": null,
   "metadata": {
    "deletable": false,
    "nbgrader": {
     "cell_type": "code",
     "checksum": "a44f499620bcd84405a2c6bd2a8a9d73",
     "grade": false,
     "grade_id": "cell-fd274734aed6b6c7",
     "locked": false,
     "schema_version": 3,
     "solution": true,
     "task": false
    }
   },
   "outputs": [],
   "source": [
    "# answer1.3 <- \n",
    "\n",
    "# your code here\n",
    "fail() # No Answer - remove if you provide an answer"
   ]
  },
  {
   "cell_type": "code",
   "execution_count": null,
   "metadata": {
    "deletable": false,
    "editable": false,
    "nbgrader": {
     "cell_type": "code",
     "checksum": "35393769c0469b8c86febb09350aee54",
     "grade": true,
     "grade_id": "cell-905c24ed72606cd0",
     "locked": true,
     "points": 1,
     "schema_version": 3,
     "solution": false,
     "task": false
    }
   },
   "outputs": [],
   "source": [
    "test_1.3()"
   ]
  },
  {
   "cell_type": "markdown",
   "metadata": {
    "deletable": false,
    "editable": false,
    "nbgrader": {
     "cell_type": "markdown",
     "checksum": "af2bf51c2249f76716c0ec9b8cc2f953",
     "grade": false,
     "grade_id": "cell-e905a3e604e8750e",
     "locked": true,
     "schema_version": 3,
     "solution": false,
     "task": false
    }
   },
   "source": [
    "**Question 1.4**\n",
    "<br>{points: 1}\n",
    "\n",
    "Using `facebook_data`, estimate the MLR proposed in **Question 1.2** and called it `facebook_MLR_add`.\n",
    "\n",
    "*Fill out those parts indicated with `...`, uncomment the corresponding code in the cell below, and run it.*"
   ]
  },
  {
   "cell_type": "code",
   "execution_count": null,
   "metadata": {
    "deletable": false,
    "nbgrader": {
     "cell_type": "code",
     "checksum": "80fe8f211d0f3e829ecee2c394d1a434",
     "grade": false,
     "grade_id": "cell-537a5de8c45b73fd",
     "locked": false,
     "schema_version": 3,
     "solution": true,
     "task": false
    }
   },
   "outputs": [],
   "source": [
    "# facebook_MLR_add <- ...(...,\n",
    "#   ...\n",
    "# )\n",
    "# facebook_MLR_add\n",
    "\n",
    "# your code here\n",
    "fail() # No Answer - remove if you provide an answer"
   ]
  },
  {
   "cell_type": "code",
   "execution_count": null,
   "metadata": {
    "deletable": false,
    "editable": false,
    "nbgrader": {
     "cell_type": "code",
     "checksum": "74a29fe01bf86246e786a664ae9b9c60",
     "grade": true,
     "grade_id": "cell-c955967bb20ade73",
     "locked": true,
     "points": 1,
     "schema_version": 3,
     "solution": false,
     "task": false
    }
   },
   "outputs": [],
   "source": [
    "test_1.4.0()\n",
    "test_1.4.1()\n",
    "test_1.4.2()\n",
    "test_1.4.3()"
   ]
  },
  {
   "cell_type": "markdown",
   "metadata": {
    "deletable": false,
    "editable": false,
    "nbgrader": {
     "cell_type": "markdown",
     "checksum": "e2f48e76951f755c0fdcc93c4cb251f6",
     "grade": false,
     "grade_id": "cell-8a3de76c80df5397",
     "locked": true,
     "schema_version": 3,
     "solution": false,
     "task": false
    }
   },
   "source": [
    "**Question 1.5**\n",
    "<br>{points: 1}\n",
    "\n",
    "Create a plot of the data in `facebook_data` (using `geom_point()`) along with the estimated regression lines coming from the additive regression model `facebook_MLR_add`. Use different colours for the points and regression lines of each type of post (levels of `post_category`). Include a legend indicating what colour corresponds to each level with proper axis labels. The `ggplot()` object's name will be `facebook_MLR_add_plot`.\n",
    "\n",
    "*Fill out those parts indicated with `...`, uncomment the corresponding code in the cell below, and run it.*"
   ]
  },
  {
   "cell_type": "code",
   "execution_count": null,
   "metadata": {
    "deletable": false,
    "nbgrader": {
     "cell_type": "code",
     "checksum": "b21d7c229271ad336bc12f8a358f8984",
     "grade": false,
     "grade_id": "cell-9dcae296b8566967",
     "locked": false,
     "schema_version": 3,
     "solution": true,
     "task": false
    }
   },
   "outputs": [],
   "source": [
    "options(repr.plot.width = 15, repr.plot.height = 7) # Adjust these numbers so the plot looks good in your desktop.\n",
    "\n",
    "# facebook_data$pred_MLR_Add <- predict(facebook_MLR_add) # Using predict() to create estimated regression lines.\n",
    "\n",
    "# facebook_MLR_add_plot <- ggplot(..., aes(\n",
    "#   ...,\n",
    "#   ...,\n",
    "#   color = ...\n",
    "# )) +\n",
    "#   ...() +\n",
    "#   geom_line(aes(y = pred_MLR_Add), size = 1) +\n",
    "#   labs(\n",
    "#     title = ...,\n",
    "#     x = ...,\n",
    "#     y = ...\n",
    "#   ) +\n",
    "#   theme(\n",
    "#     text = element_text(size = 16.5),\n",
    "#     plot.title = element_text(face = \"bold\"),\n",
    "#     axis.title = element_text(face = \"bold\"),\n",
    "#     legend.title = element_text(face = \"bold\"),\n",
    "#   ) +\n",
    "#   labs(color = \"Post Category\")\n",
    "# facebook_MLR_add_plot\n",
    "\n",
    "# your code here\n",
    "fail() # No Answer - remove if you provide an answer"
   ]
  },
  {
   "cell_type": "code",
   "execution_count": null,
   "metadata": {
    "deletable": false,
    "editable": false,
    "nbgrader": {
     "cell_type": "code",
     "checksum": "125d765392989a6f948357a6cc048d01",
     "grade": true,
     "grade_id": "cell-60b4784943979e31",
     "locked": true,
     "points": 1,
     "schema_version": 3,
     "solution": false,
     "task": false
    }
   },
   "outputs": [],
   "source": [
    "test_1.5()"
   ]
  },
  {
   "cell_type": "markdown",
   "metadata": {
    "deletable": false,
    "editable": false,
    "nbgrader": {
     "cell_type": "markdown",
     "checksum": "5d1bd4c86fcb2a19a2ef2d8c695f47e2",
     "grade": false,
     "grade_id": "cell-5a6b3d5e566adacc",
     "locked": true,
     "schema_version": 3,
     "solution": false,
     "task": false
    }
   },
   "source": [
    "**Question 1.6**\n",
    "<br>{points: 1}\n",
    "\n",
    "Find the estimated coefficients of `facebook_MLR_add` using `tidy()`. Report the estimated coefficients, their standard errors and corresponding $p$-values. Include the corresponding asymptotic **90% confidence intervals**. Store the results in the variable `facebook_MLR_add_results`.\n",
    "\n",
    "*Fill out those parts indicated with `...`, uncomment the corresponding code in the cell below, and run it.*"
   ]
  },
  {
   "cell_type": "code",
   "execution_count": null,
   "metadata": {
    "deletable": false,
    "nbgrader": {
     "cell_type": "code",
     "checksum": "f9aac59b0079644711f22aa1a626d514",
     "grade": false,
     "grade_id": "cell-253df594cc213305",
     "locked": false,
     "schema_version": 3,
     "solution": true,
     "task": false
    }
   },
   "outputs": [],
   "source": [
    "# facebook_MLR_add_results <- ...(..., ..., ....) %>% mutate_if(is.numeric, round, 2)\n",
    "# facebook_MLR_add_results\n",
    "\n",
    "# your code here\n",
    "fail() # No Answer - remove if you provide an answer"
   ]
  },
  {
   "cell_type": "code",
   "execution_count": null,
   "metadata": {
    "deletable": false,
    "editable": false,
    "nbgrader": {
     "cell_type": "code",
     "checksum": "182cc3fee5a4319bbefb8dee3139a641",
     "grade": true,
     "grade_id": "cell-2e20842d0ef2e18c",
     "locked": true,
     "points": 1,
     "schema_version": 3,
     "solution": false,
     "task": false
    }
   },
   "outputs": [],
   "source": [
    "test_1.6()"
   ]
  },
  {
   "cell_type": "markdown",
   "metadata": {
    "deletable": false,
    "editable": false,
    "nbgrader": {
     "cell_type": "markdown",
     "checksum": "1526fa3230e3cb8d2762ff8282244339",
     "grade": false,
     "grade_id": "cell-045d79b6d3e4e227",
     "locked": true,
     "schema_version": 3,
     "solution": false,
     "task": false
    }
   },
   "source": [
    "**Question 1.7**\n",
    "<br>{points: 1}\n",
    "\n",
    "Using the results in `facebook_MLR_add_results` from **Question 1.6**, how would you interpret the estimated coefficient of the continuous variable `page_engagement_percentage` ?"
   ]
  },
  {
   "cell_type": "markdown",
   "metadata": {
    "deletable": false,
    "nbgrader": {
     "cell_type": "markdown",
     "checksum": "885cf006afa42b04df3d244c08372d30",
     "grade": true,
     "grade_id": "cell-c4f0c10f52097476",
     "locked": false,
     "points": 1,
     "schema_version": 3,
     "solution": true,
     "task": false
    }
   },
   "source": [
    "> *Your answer goes here.*\n",
    "\n",
    "DOUBLE CLICK TO EDIT **THIS CELL** AND REPLACE THIS TEXT WITH YOUR ANSWER."
   ]
  },
  {
   "cell_type": "markdown",
   "metadata": {
    "deletable": false,
    "editable": false,
    "nbgrader": {
     "cell_type": "markdown",
     "checksum": "7c49465d608dc125d21504d4ade3c715",
     "grade": false,
     "grade_id": "cell-2c547503213abacd",
     "locked": true,
     "schema_version": 3,
     "solution": false,
     "task": false
    }
   },
   "source": [
    "**Question 1.8**\n",
    "<br>{points: 1}\n",
    "\n",
    "Using a **significance level $\\alpha = 0.10$**, which of the following claims are correct?\n",
    "\n",
    "\n",
    "**A.** there is enough evidence to reject the hypothesis that, for any page engagement percentage, the expected total engagement percentage is the same for Inspiration-posts and Action-posts \n",
    "\n",
    "**B.** there is enough evidence to reject the hypothesis that, for any page engagement percentage, the expected total engagement percentage is the same for Product-posts and Action-posts \n",
    "\n",
    "**C.** for any type of post, the page engagement percentage is statistically associated with the total engagement percentage.\n",
    "\n",
    "**D.** there is enough evidence to believe that the association between `page_engagement_percentage` and `total_engagement_percentage` varies with the types of posts.\n",
    "\n",
    "\n",
    "*Assign your answers to the object `answer1.8`. Your answers have to be included in a single string indicating the correct options **in alphabetical order** and surrounded by quotes (e.g., `\"ABCD\"` indicates you are selecting the four options).*"
   ]
  },
  {
   "cell_type": "code",
   "execution_count": null,
   "metadata": {
    "deletable": false,
    "nbgrader": {
     "cell_type": "code",
     "checksum": "e77708faa194004e77f8a89d1d0fa38c",
     "grade": false,
     "grade_id": "cell-7ded1cd632f3869e",
     "locked": false,
     "schema_version": 3,
     "solution": true,
     "task": false
    }
   },
   "outputs": [],
   "source": [
    "# answer1.8 <- \n",
    "\n",
    "# your code here\n",
    "fail() # No Answer - remove if you provide an answer"
   ]
  },
  {
   "cell_type": "code",
   "execution_count": null,
   "metadata": {
    "deletable": false,
    "editable": false,
    "nbgrader": {
     "cell_type": "code",
     "checksum": "041fdc33a657af0a6e2e3f9dbd1d9fb7",
     "grade": true,
     "grade_id": "cell-51e7b8a61bab24c9",
     "locked": true,
     "points": 1,
     "schema_version": 3,
     "solution": false,
     "task": false
    }
   },
   "outputs": [],
   "source": [
    "test_1.8()"
   ]
  },
  {
   "cell_type": "markdown",
   "metadata": {
    "deletable": false,
    "editable": false,
    "nbgrader": {
     "cell_type": "markdown",
     "checksum": "7d52a65dd4760f1ba7ea9bf2db519e19",
     "grade": false,
     "grade_id": "cell-873ce5c231e18f2c",
     "locked": true,
     "schema_version": 3,
     "solution": false,
     "task": false
    }
   },
   "source": [
    "## 2. MLR: with interactions\n",
    "\n",
    "In this section we will explore if the relation between `total_engagement_percentage` and `page_engagement_percentage` is the same for all types of posts. We can do this using **interactions** between the input variables!\n",
    "\n",
    "> **Note** that interactions can be used, in general, when the relation between an input and the response depends on another input variable (not necessarily categorical!)\n",
    "\n",
    "Mathematically, the equation of a MLR with one continuous input variable that interacts with one categorical variable with 3 levels can be written as:\n",
    "\n",
    "$$Y_i = \\beta_0 + \\beta_1 X_{1i} + \\beta_2 X_{2i} + \\beta_3 X_{3i} + \\beta_4 X_{1i} \\times X_{2i} + \\beta_5 X_{1i} \\times X_{3i} + \\varepsilon_i$$\n",
    "\n",
    "> **Note**: the continuous variable, $X_1$, is multiplied by the dummy variables, $X_2$ and $X_3$, to model *different slopes* "
   ]
  },
  {
   "cell_type": "markdown",
   "metadata": {
    "deletable": false,
    "editable": false,
    "nbgrader": {
     "cell_type": "markdown",
     "checksum": "f555dec25e970bd1d3954ad2b1d50b78",
     "grade": false,
     "grade_id": "cell-004da4c289bb7b52",
     "locked": true,
     "schema_version": 3,
     "solution": false,
     "task": false
    }
   },
   "source": [
    "**Question 2.0**\n",
    "<br>{points: 1}\n",
    "\n",
    "We can use `lm` to fit the MLR with interactions between the continuous variable `page_engagement_percentage` and the categorical variable `post_category` (with 3 levels) defined above.\n",
    "\n",
    "How many regression coefficients will be estimated by `lm`?\n",
    "\n",
    "**A.** 1\n",
    "\n",
    "**B.** 2\n",
    "\n",
    "**C.** 3\n",
    "\n",
    "**D.** 4\n",
    "\n",
    "**E.** 5\n",
    "\n",
    "**F.** 6\n",
    "\n",
    "*Assign your answer to an object called `answer2.0`. Your answer should be one of `\"A\"`, `\"B\"`, `\"C\"`, `\"D\"`, `\"E\"`, or `\"F\"` surrounded by quotes.*"
   ]
  },
  {
   "cell_type": "code",
   "execution_count": null,
   "metadata": {
    "deletable": false,
    "nbgrader": {
     "cell_type": "code",
     "checksum": "c879ea7b9e4c78544e35bad40039dbff",
     "grade": false,
     "grade_id": "cell-598588b1701bd38d",
     "locked": false,
     "schema_version": 3,
     "solution": true,
     "task": false
    }
   },
   "outputs": [],
   "source": [
    "# answer2.0 <- \n",
    "\n",
    "# your code here\n",
    "fail() # No Answer - remove if you provide an answer"
   ]
  },
  {
   "cell_type": "code",
   "execution_count": null,
   "metadata": {
    "deletable": false,
    "editable": false,
    "nbgrader": {
     "cell_type": "code",
     "checksum": "7392fce520cd1b366107f36865b48507",
     "grade": true,
     "grade_id": "cell-632b241ba713f5aa",
     "locked": true,
     "points": 1,
     "schema_version": 3,
     "solution": false,
     "task": false
    }
   },
   "outputs": [],
   "source": [
    "test_2.0()"
   ]
  },
  {
   "cell_type": "markdown",
   "metadata": {
    "deletable": false,
    "editable": false,
    "nbgrader": {
     "cell_type": "markdown",
     "checksum": "1c46cd7451e3d9a84e5239c880999540",
     "grade": false,
     "grade_id": "cell-d67f4a30fbd6b249",
     "locked": true,
     "schema_version": 3,
     "solution": false,
     "task": false
    }
   },
   "source": [
    "**Question 2.1**\n",
    "<br>{points: 1}\n",
    "\n",
    "Using `facebook_data`, estimate the MLR with interaction described above and called it `facebook_MLR_int`.\n",
    "\n",
    "> **Hint:** Interaction terms can be easily specified in `lm()` using the notation `*`.\n",
    "\n",
    "*Fill out those parts indicated with `...`, uncomment the corresponding code in the cell below, and run it.*"
   ]
  },
  {
   "cell_type": "code",
   "execution_count": null,
   "metadata": {
    "deletable": false,
    "nbgrader": {
     "cell_type": "code",
     "checksum": "530691fdc3db25536823ce9afe116a67",
     "grade": false,
     "grade_id": "cell-d99a7bc9a1759fac",
     "locked": false,
     "schema_version": 3,
     "solution": true,
     "task": false
    }
   },
   "outputs": [],
   "source": [
    "# facebook_MLR_int <- ...(...,\n",
    "#   ...\n",
    "# )\n",
    "# facebook_MLR_int\n",
    "\n",
    "# your code here\n",
    "fail() # No Answer - remove if you provide an answer"
   ]
  },
  {
   "cell_type": "code",
   "execution_count": null,
   "metadata": {
    "deletable": false,
    "editable": false,
    "nbgrader": {
     "cell_type": "code",
     "checksum": "e45c0c7b840a7ee708d68d011cbfc9ba",
     "grade": true,
     "grade_id": "cell-a2d3def81c3ee729",
     "locked": true,
     "points": 1,
     "schema_version": 3,
     "solution": false,
     "task": false
    }
   },
   "outputs": [],
   "source": [
    "test_2.1.0()\n",
    "test_2.1.1()\n",
    "test_2.1.2()\n",
    "test_2.1.3()\n",
    "test_2.1.4()\n",
    "test_2.1.5()"
   ]
  },
  {
   "cell_type": "markdown",
   "metadata": {
    "deletable": false,
    "editable": false,
    "nbgrader": {
     "cell_type": "markdown",
     "checksum": "5097188f686669b792c32618cbbd9c1c",
     "grade": false,
     "grade_id": "cell-1fc6d7f5ba4c6352",
     "locked": true,
     "schema_version": 3,
     "solution": false,
     "task": false
    }
   },
   "source": [
    "**Question 2.2**\n",
    "<br>{points: 1}\n",
    "\n",
    "Create a plot of the data in `facebook_data` (using `geom_point()`) along with the estimated regression lines coming from the interaction regression model `facebook_MLR_int` (note that your plot should have three regression lines, one for each `post_category`). Use different colours for the points and regression lines of each type of post (levels of `post_category`). Include a legend indicating what colour corresponds to each level with proper axis labels. The `ggplot()` object's name will be `facebook_MLR_int_plot`.\n",
    "\n",
    "*Fill out those parts indicated with `...`, uncomment the corresponding code in the cell below, and run it.*"
   ]
  },
  {
   "cell_type": "code",
   "execution_count": null,
   "metadata": {
    "deletable": false,
    "nbgrader": {
     "cell_type": "code",
     "checksum": "58c089694b96e9a50d83c949b01dbcca",
     "grade": false,
     "grade_id": "cell-0264d31dfcee946e",
     "locked": false,
     "schema_version": 3,
     "solution": true,
     "task": false
    }
   },
   "outputs": [],
   "source": [
    "# facebook_data$pred_MLR_int <- predict(facebook_MLR_int) # Using predict() to create estimated regression lines.\n",
    "\n",
    "# facebook_MLR_int_plot <- ggplot(..., aes(\n",
    "#   ...,\n",
    "#   ...,\n",
    "#   color = ...\n",
    "# )) +\n",
    "#   ...() +\n",
    "#   geom_line(aes(y = pred_MLR_int), size = 1) +\n",
    "#   labs(\n",
    "#     title = ...,\n",
    "#     x = ...,\n",
    "#     y = ...\n",
    "#   ) +\n",
    "#   theme(\n",
    "#     text = element_text(size = 16.5),\n",
    "#     plot.title = element_text(face = \"bold\"),\n",
    "#     axis.title = element_text(face = \"bold\"),\n",
    "#     legend.title = element_text(face = \"bold\"),\n",
    "#   ) +\n",
    "#   labs(color = \"Post Category\")\n",
    "# facebook_MLR_int_plot\n",
    "\n",
    "# your code here\n",
    "fail() # No Answer - remove if you provide an answer"
   ]
  },
  {
   "cell_type": "code",
   "execution_count": null,
   "metadata": {
    "deletable": false,
    "editable": false,
    "nbgrader": {
     "cell_type": "code",
     "checksum": "a0895f6f2f13d7ce6a6805aa3ca750a7",
     "grade": true,
     "grade_id": "cell-1de4883ebac641a7",
     "locked": true,
     "points": 1,
     "schema_version": 3,
     "solution": false,
     "task": false
    }
   },
   "outputs": [],
   "source": [
    "test_2.2()"
   ]
  },
  {
   "cell_type": "markdown",
   "metadata": {
    "deletable": false,
    "editable": false,
    "nbgrader": {
     "cell_type": "markdown",
     "checksum": "e61f021cb2f17405cbadb566c5c0cc6f",
     "grade": false,
     "grade_id": "cell-e850e2f516d793c9",
     "locked": true,
     "schema_version": 3,
     "solution": false,
     "task": false
    }
   },
   "source": [
    "**Question 2.3**\n",
    "<br>{points: 1}\n",
    "\n",
    "Find the estimated coefficients of `facebook_MLR_int` using `tidy()`. Report the estimated coefficients, their standard errors and corresponding $p$-values. Include the corresponding asymptotic 90% confidence intervals. Store the results in the variable `facebook_MLR_int_results`.\n",
    "\n",
    "*Fill out those parts indicated with `...`, uncomment the corresponding code in the cell below, and run it.*"
   ]
  },
  {
   "cell_type": "code",
   "execution_count": null,
   "metadata": {
    "deletable": false,
    "nbgrader": {
     "cell_type": "code",
     "checksum": "181b09e58cd2979942b7da572658e014",
     "grade": false,
     "grade_id": "cell-b8a3711ac0aa9e78",
     "locked": false,
     "schema_version": 3,
     "solution": true,
     "task": false
    }
   },
   "outputs": [],
   "source": [
    "# facebook_MLR_int_results <- ...(..., ..., ....) %>% mutate_if(is.numeric, round, 2)\n",
    "# facebook_MLR_int_results\n",
    "\n",
    "# your code here\n",
    "fail() # No Answer - remove if you provide an answer"
   ]
  },
  {
   "cell_type": "code",
   "execution_count": null,
   "metadata": {
    "deletable": false,
    "editable": false,
    "nbgrader": {
     "cell_type": "code",
     "checksum": "243d015f2afebda5db3917619f72d6fd",
     "grade": true,
     "grade_id": "cell-db1c5162e30c84bd",
     "locked": true,
     "points": 1,
     "schema_version": 3,
     "solution": false,
     "task": false
    }
   },
   "outputs": [],
   "source": [
    "test_2.3()"
   ]
  },
  {
   "cell_type": "markdown",
   "metadata": {
    "deletable": false,
    "editable": false,
    "nbgrader": {
     "cell_type": "markdown",
     "checksum": "bab06f539b96541293a18369d3c9cf0c",
     "grade": false,
     "grade_id": "cell-3867f871a7af4b28",
     "locked": true,
     "schema_version": 3,
     "solution": false,
     "task": false
    }
   },
   "source": [
    "**Question 2.4**\n",
    "<br>{points: 1}\n",
    "\n",
    "Using a **significance level $\\alpha = 0.10$**, which of the following claims are correct?\n",
    "\n",
    "\n",
    "**A.** There is enough evidence to reject the hypothesis that, for any page engagement percentage, the expected total engagement percentage is the same for Product-posts and Action-posts \n",
    "\n",
    "**B.** For any type of post, the page engagement percentage is statistically associated with the total engagement percentage.\n",
    "\n",
    "**C.** There is enough evidence to reject the hypothesis that the association between `page_engagement_percentage` and `total_engagement_percentage` is the same for Product-posts and Action-posts.\n",
    "\n",
    "**D.** There is not enough evidence to reject the hypothesis that the association between `page_engagement_percentage` and `total_engagement_percentage` is the same for Inspiration-posts and Action-posts.\n",
    "\n",
    "**E.** There is a statistically significant association between `page_engagement_percentage` and `total_engagement_percentage` for Action-posts.\n",
    "\n",
    "*Assign your answers to the object `answer2.4`. Your answers have to be included in a single string indicating the correct options **in alphabetical order** and surrounded by quotes (e.g., `\"ABCDEFG\"` indicates you are selecting the seven options).*"
   ]
  },
  {
   "cell_type": "code",
   "execution_count": null,
   "metadata": {
    "deletable": false,
    "nbgrader": {
     "cell_type": "code",
     "checksum": "feef0f6cf6e41f07ab507be043fcd7fa",
     "grade": false,
     "grade_id": "cell-8040936e931b0c26",
     "locked": false,
     "schema_version": 3,
     "solution": true,
     "task": false
    }
   },
   "outputs": [],
   "source": [
    "# answer2.4 <- \n",
    "\n",
    "# your code here\n",
    "fail() # No Answer - remove if you provide an answer"
   ]
  },
  {
   "cell_type": "code",
   "execution_count": null,
   "metadata": {
    "deletable": false,
    "editable": false,
    "nbgrader": {
     "cell_type": "code",
     "checksum": "3e0e9dc82c3cc0b9ec220187142156a4",
     "grade": true,
     "grade_id": "cell-1873e4d29d602968",
     "locked": true,
     "points": 1,
     "schema_version": 3,
     "solution": false,
     "task": false
    }
   },
   "outputs": [],
   "source": [
    "test_2.4()"
   ]
  },
  {
   "cell_type": "markdown",
   "metadata": {
    "deletable": false,
    "editable": false,
    "nbgrader": {
     "cell_type": "markdown",
     "checksum": "014cda119ba2cb4e13121a27b5d3b1d3",
     "grade": false,
     "grade_id": "cell-a4830b2233d003de",
     "locked": true,
     "schema_version": 3,
     "solution": false,
     "task": false
    }
   },
   "source": [
    "**Question 2.5**\n",
    "<br>{points: 1}\n",
    "\n",
    "What is the correct interpretation of estimated coefficient of the interaction term `page_engagement_percentage:post_categoryProduct` from `facebook_MLR_int_results` in **Question 2.3**?"
   ]
  },
  {
   "cell_type": "markdown",
   "metadata": {
    "deletable": false,
    "nbgrader": {
     "cell_type": "markdown",
     "checksum": "af5ae4b1617c5eb5fa76f953cc7fc90d",
     "grade": true,
     "grade_id": "cell-94b5d3fd08f12a3f",
     "locked": false,
     "points": 1,
     "schema_version": 3,
     "solution": true,
     "task": false
    }
   },
   "source": [
    "> *Your answer goes here.*\n",
    "\n",
    "DOUBLE CLICK TO EDIT **THIS CELL** AND REPLACE THIS TEXT WITH YOUR ANSWER."
   ]
  },
  {
   "cell_type": "markdown",
   "metadata": {
    "deletable": false,
    "editable": false,
    "nbgrader": {
     "cell_type": "markdown",
     "checksum": "2d8a2c48724c453bb47188f3acbb98a4",
     "grade": false,
     "grade_id": "cell-ad8a6bbdaf066526",
     "locked": true,
     "schema_version": 3,
     "solution": false,
     "task": false
    }
   },
   "source": [
    "**Question 2.6**\n",
    "<br>{points: 1}\n",
    "\n",
    "Fit the following 3 models as indicated:\n",
    "\n",
    "**A.** a SLR with `total_engagement_percentage` as the response and `page_engagement_percentage` as the *only* input variable using only Action-posts in `facebook_data`. Use `tidy` to get estimated parameters and standard errors. Call the results `facebook_SLR_action_results`\n",
    "\n",
    "**B.** a SLR with `total_engagement_percentage` as the response and `page_engagement_percentage` as the *only* input variable using only Product-posts in `facebook_data`. Use `tidy` to get estimated parameters and standard errors. Call the results `facebook_SLR_product_results`\n",
    "\n",
    "**C.** a MLR with `total_engagement_percentage` as the response and `page_engagement_percentage` and `post_category` as input variables, *including their interaction*, using `facebook_data`. Note that you already have the estimated parameters and standard errors in `facebook_MLR_int_results`. Uncomment the line to get the results again here.\n",
    "\n",
    "*Fill out those parts indicated with `...`, uncomment the corresponding code in the cell below, and run it.*"
   ]
  },
  {
   "cell_type": "code",
   "execution_count": null,
   "metadata": {
    "deletable": false,
    "nbgrader": {
     "cell_type": "code",
     "checksum": "3760bcb3bbcf4663d4da2fef3504da9c",
     "grade": false,
     "grade_id": "cell-6e18beb71a4fb71f",
     "locked": false,
     "schema_version": 3,
     "solution": true,
     "task": false
    }
   },
   "outputs": [],
   "source": [
    "#facebook_action_data <- ...  %>% subset(... == ...)\n",
    "#facebook_product_data <- ...  %>% subset(... == ...)\n",
    "\n",
    "#facebook_SLR_action_results <- tidy(lm(...~..., data= ...)) %>% mutate_if(is.numeric, round, 2)\n",
    "#facebook_SLR_action_results\n",
    "\n",
    "#facebook_SLR_product_results <- tidy(lm(...~..., data= ...)) %>% mutate_if(is.numeric, round, 2)\n",
    "#facebook_SLR_product_results\n",
    "\n",
    "#facebook_MLR_int_results\n",
    "\n",
    "\n",
    "# your code here\n",
    "fail() # No Answer - remove if you provide an answer"
   ]
  },
  {
   "cell_type": "code",
   "execution_count": null,
   "metadata": {
    "deletable": false,
    "editable": false,
    "nbgrader": {
     "cell_type": "code",
     "checksum": "3588b0c0ddca3eaaa2cfe7eb68472928",
     "grade": true,
     "grade_id": "cell-7211318468890365",
     "locked": true,
     "points": 1,
     "schema_version": 3,
     "solution": false,
     "task": false
    }
   },
   "outputs": [],
   "source": [
    "test_2.6.0()\n",
    "test_2.6.1()\n",
    "test_2.6.2()"
   ]
  },
  {
   "cell_type": "markdown",
   "metadata": {
    "deletable": false,
    "editable": false,
    "nbgrader": {
     "cell_type": "markdown",
     "checksum": "7331e7c31bab67bc2d75af88ab408247",
     "grade": false,
     "grade_id": "cell-22795bb3ed88a300",
     "locked": true,
     "schema_version": 3,
     "solution": false,
     "task": false
    }
   },
   "source": [
    "**Question 2.7**\n",
    "<br>{points: 1}\n",
    "\n",
    "**2.7.0** Using the results from `facebook_SLR_action_results` and `facebook_MLR_int_results` in **Question 2.6**, explain why the estimated coefficients of `page_engagement_percentage` are the same in both models\n",
    "\n",
    "**2.7.1** Using the results from `facebook_SLR_product_results` and `facebook_MLR_int_results` in **Question 2.6**, explain why the estimated coefficients of `page_engagement_percentage` are *not* the same in both models. \n",
    "\n",
    "**2.7.2** Explain why the estimated coefficients of `page_engagement_percentage` in `facebook_SLR_product_results` is *not* the same as that of `page_engagement_percentage:post_categoryProduct` in `facebook_MLR_int_results` using the results from **Question 2.6**."
   ]
  },
  {
   "cell_type": "markdown",
   "metadata": {
    "deletable": false,
    "nbgrader": {
     "cell_type": "markdown",
     "checksum": "8c6973a0f022fe93f2585f89c5365adb",
     "grade": true,
     "grade_id": "cell-1bc7a024f2ac0de4",
     "locked": false,
     "points": 1,
     "schema_version": 3,
     "solution": true,
     "task": false
    }
   },
   "source": [
    "> *Your answer goes here.*\n",
    "\n",
    "DOUBLE CLICK TO EDIT **THIS CELL** AND REPLACE THIS TEXT WITH YOUR ANSWER."
   ]
  }
 ],
 "metadata": {
  "jupytext": {
   "formats": "ipynb,Rmd"
  },
  "kernelspec": {
   "display_name": "R",
   "language": "R",
   "name": "ir"
  },
  "language_info": {
   "codemirror_mode": "r",
   "file_extension": ".r",
   "mimetype": "text/x-r-source",
   "name": "R",
   "pygments_lexer": "r",
   "version": "4.1.3"
  },
  "latex_envs": {
   "LaTeX_envs_menu_present": true,
   "autoclose": false,
   "autocomplete": true,
   "bibliofile": "biblio.bib",
   "cite_by": "apalike",
   "current_citInitial": 1,
   "eqLabelWithNumbers": true,
   "eqNumInitial": 1,
   "hotkeys": {
    "equation": "Ctrl-E",
    "itemize": "Ctrl-I"
   },
   "labels_anchors": false,
   "latex_user_defs": false,
   "report_style_numbering": false,
   "user_envs_cfg": false
  }
 },
 "nbformat": 4,
 "nbformat_minor": 4
}
